{
  "nbformat": 4,
  "nbformat_minor": 0,
  "metadata": {
    "colab": {
      "name": "facke_detect.ipynb",
      "provenance": [],
      "collapsed_sections": [],
      "toc_visible": true,
      "machine_shape": "hm",
      "mount_file_id": "1KVoDVoOitN78pBzKM7qH9dinlhcQ4S5T",
      "authorship_tag": "ABX9TyPz/ygzPCHT/duTJWcy8WtA",
      "include_colab_link": true
    },
    "kernelspec": {
      "name": "python3",
      "display_name": "Python 3"
    }
  },
  "cells": [
    {
      "cell_type": "markdown",
      "metadata": {
        "id": "view-in-github",
        "colab_type": "text"
      },
      "source": [
        "<a href=\"https://colab.research.google.com/github/mrFahrenhiet/Fake-News-Detector/blob/master/facke_detect.ipynb\" target=\"_parent\"><img src=\"https://colab.research.google.com/assets/colab-badge.svg\" alt=\"Open In Colab\"/></a>"
      ]
    },
    {
      "cell_type": "code",
      "metadata": {
        "id": "jS1FWbkcI-v0",
        "colab_type": "code",
        "colab": {}
      },
      "source": [
        "import numpy as np\n",
        "import matplotlib.pyplot as plt\n",
        "import pandas as pd\n",
        "import nltk\n",
        "from sklearn.naive_bayes import GaussianNB,MultinomialNB\n",
        "from nltk.tokenize import RegexpTokenizer,WordPunctTokenizer,word_tokenize,sent_tokenize\n",
        "from nltk.corpus import stopwords\n",
        "from nltk.stem.snowball import PorterStemmer\n",
        "from sklearn.feature_extraction.text import CountVectorizer\n",
        "from sklearn.model_selection import train_test_split,cross_val_score\n",
        "from sklearn.preprocessing import LabelEncoder\n",
        "from sklearn.feature_extraction.text import TfidfVectorizer\n",
        "from sklearn.metrics import classification_report,confusion_matrix,accuracy_score\n",
        "import seaborn as sns"
      ],
      "execution_count": 0,
      "outputs": []
    },
    {
      "cell_type": "code",
      "metadata": {
        "id": "703UaN04Xqrl",
        "colab_type": "code",
        "outputId": "68be6634-8d9a-4385-bff9-861a6d420e84",
        "colab": {
          "base_uri": "https://localhost:8080/",
          "height": 67
        }
      },
      "source": [
        "nltk.download('stopwords')"
      ],
      "execution_count": 200,
      "outputs": [
        {
          "output_type": "stream",
          "text": [
            "[nltk_data] Downloading package stopwords to /root/nltk_data...\n",
            "[nltk_data]   Package stopwords is already up-to-date!\n"
          ],
          "name": "stdout"
        },
        {
          "output_type": "execute_result",
          "data": {
            "text/plain": [
              "True"
            ]
          },
          "metadata": {
            "tags": []
          },
          "execution_count": 200
        }
      ]
    },
    {
      "cell_type": "code",
      "metadata": {
        "id": "Z0s3XD7dJQvi",
        "colab_type": "code",
        "colab": {}
      },
      "source": [
        "df1 = pd.read_csv(\"/content/drive/My Drive/Dataset/f1data.csv\")"
      ],
      "execution_count": 0,
      "outputs": []
    },
    {
      "cell_type": "code",
      "metadata": {
        "id": "HGTR0vX0KhRx",
        "colab_type": "code",
        "outputId": "6a59358f-f360-41e7-c572-11abaef2be43",
        "colab": {
          "base_uri": "https://localhost:8080/",
          "height": 34
        }
      },
      "source": [
        "df1['text'] = df1['text']+df1['place']\n",
        "df1 = df1.drop(['Unnamed: 0','Unnamed: 0.1','date','day','filename','id','keywords','link','month','place'],axis=1)\n",
        "df1.shape"
      ],
      "execution_count": 202,
      "outputs": [
        {
          "output_type": "execute_result",
          "data": {
            "text/plain": [
              "(146413, 4)"
            ]
          },
          "metadata": {
            "tags": []
          },
          "execution_count": 202
        }
      ]
    },
    {
      "cell_type": "code",
      "metadata": {
        "id": "kQQUeOQ4K7rH",
        "colab_type": "code",
        "outputId": "06fcd713-4815-4fae-dd9e-ab3ffe64ef1e",
        "colab": {
          "base_uri": "https://localhost:8080/",
          "height": 195
        }
      },
      "source": [
        "df1.head(n=5)"
      ],
      "execution_count": 203,
      "outputs": [
        {
          "output_type": "execute_result",
          "data": {
            "text/html": [
              "<div>\n",
              "<style scoped>\n",
              "    .dataframe tbody tr th:only-of-type {\n",
              "        vertical-align: middle;\n",
              "    }\n",
              "\n",
              "    .dataframe tbody tr th {\n",
              "        vertical-align: top;\n",
              "    }\n",
              "\n",
              "    .dataframe thead th {\n",
              "        text-align: right;\n",
              "    }\n",
              "</style>\n",
              "<table border=\"1\" class=\"dataframe\">\n",
              "  <thead>\n",
              "    <tr style=\"text-align: right;\">\n",
              "      <th></th>\n",
              "      <th>flag</th>\n",
              "      <th>publisher</th>\n",
              "      <th>year</th>\n",
              "      <th>text</th>\n",
              "    </tr>\n",
              "  </thead>\n",
              "  <tbody>\n",
              "    <tr>\n",
              "      <th>0</th>\n",
              "      <td>0</td>\n",
              "      <td>TOI</td>\n",
              "      <td>2018.0</td>\n",
              "      <td>NAGPUR: Villagers in Naxalite infested Gadchir...</td>\n",
              "    </tr>\n",
              "    <tr>\n",
              "      <th>1</th>\n",
              "      <td>0</td>\n",
              "      <td>TOI</td>\n",
              "      <td>2017.0</td>\n",
              "      <td>KOLHAPUR: Robbers continue to give sleepless n...</td>\n",
              "    </tr>\n",
              "    <tr>\n",
              "      <th>2</th>\n",
              "      <td>0</td>\n",
              "      <td>TOI</td>\n",
              "      <td>2018.0</td>\n",
              "      <td>HUBBALLI: An iconic building, which is propose...</td>\n",
              "    </tr>\n",
              "    <tr>\n",
              "      <th>3</th>\n",
              "      <td>0</td>\n",
              "      <td>TOI</td>\n",
              "      <td>2017.0</td>\n",
              "      <td>MUMBAI: MNS chief   said that the   would lead...</td>\n",
              "    </tr>\n",
              "    <tr>\n",
              "      <th>4</th>\n",
              "      <td>0</td>\n",
              "      <td>TOI</td>\n",
              "      <td>2017.0</td>\n",
              "      <td>UDAIPUR: Several mud houses collapsed and doze...</td>\n",
              "    </tr>\n",
              "  </tbody>\n",
              "</table>\n",
              "</div>"
            ],
            "text/plain": [
              "   flag publisher    year                                               text\n",
              "0     0       TOI  2018.0  NAGPUR: Villagers in Naxalite infested Gadchir...\n",
              "1     0       TOI  2017.0  KOLHAPUR: Robbers continue to give sleepless n...\n",
              "2     0       TOI  2018.0  HUBBALLI: An iconic building, which is propose...\n",
              "3     0       TOI  2017.0  MUMBAI: MNS chief   said that the   would lead...\n",
              "4     0       TOI  2017.0  UDAIPUR: Several mud houses collapsed and doze..."
            ]
          },
          "metadata": {
            "tags": []
          },
          "execution_count": 203
        }
      ]
    },
    {
      "cell_type": "code",
      "metadata": {
        "id": "dfndiK-2LyFh",
        "colab_type": "code",
        "outputId": "a4b7bc28-4ad9-4a51-d53b-0f9a615109bb",
        "colab": {
          "base_uri": "https://localhost:8080/",
          "height": 402
        }
      },
      "source": [
        "df1 = df1.drop(['publisher','year'],axis=1)\n",
        "df1"
      ],
      "execution_count": 204,
      "outputs": [
        {
          "output_type": "execute_result",
          "data": {
            "text/html": [
              "<div>\n",
              "<style scoped>\n",
              "    .dataframe tbody tr th:only-of-type {\n",
              "        vertical-align: middle;\n",
              "    }\n",
              "\n",
              "    .dataframe tbody tr th {\n",
              "        vertical-align: top;\n",
              "    }\n",
              "\n",
              "    .dataframe thead th {\n",
              "        text-align: right;\n",
              "    }\n",
              "</style>\n",
              "<table border=\"1\" class=\"dataframe\">\n",
              "  <thead>\n",
              "    <tr style=\"text-align: right;\">\n",
              "      <th></th>\n",
              "      <th>flag</th>\n",
              "      <th>text</th>\n",
              "    </tr>\n",
              "  </thead>\n",
              "  <tbody>\n",
              "    <tr>\n",
              "      <th>0</th>\n",
              "      <td>0</td>\n",
              "      <td>NAGPUR: Villagers in Naxalite infested Gadchir...</td>\n",
              "    </tr>\n",
              "    <tr>\n",
              "      <th>1</th>\n",
              "      <td>0</td>\n",
              "      <td>KOLHAPUR: Robbers continue to give sleepless n...</td>\n",
              "    </tr>\n",
              "    <tr>\n",
              "      <th>2</th>\n",
              "      <td>0</td>\n",
              "      <td>HUBBALLI: An iconic building, which is propose...</td>\n",
              "    </tr>\n",
              "    <tr>\n",
              "      <th>3</th>\n",
              "      <td>0</td>\n",
              "      <td>MUMBAI: MNS chief   said that the   would lead...</td>\n",
              "    </tr>\n",
              "    <tr>\n",
              "      <th>4</th>\n",
              "      <td>0</td>\n",
              "      <td>UDAIPUR: Several mud houses collapsed and doze...</td>\n",
              "    </tr>\n",
              "    <tr>\n",
              "      <th>...</th>\n",
              "      <td>...</td>\n",
              "      <td>...</td>\n",
              "    </tr>\n",
              "    <tr>\n",
              "      <th>146408</th>\n",
              "      <td>0</td>\n",
              "      <td>VADODARA/ANAND: Two plants growing in abundanc...</td>\n",
              "    </tr>\n",
              "    <tr>\n",
              "      <th>146409</th>\n",
              "      <td>0</td>\n",
              "      <td>NOIDA/BEIJING: Production at   Oppo’s Noida pl...</td>\n",
              "    </tr>\n",
              "    <tr>\n",
              "      <th>146410</th>\n",
              "      <td>0</td>\n",
              "      <td>CHANDIGARH: A block development panchayat offi...</td>\n",
              "    </tr>\n",
              "    <tr>\n",
              "      <th>146411</th>\n",
              "      <td>0</td>\n",
              "      <td>MANGALURU: As many as 95 species of winged bea...</td>\n",
              "    </tr>\n",
              "    <tr>\n",
              "      <th>146412</th>\n",
              "      <td>0</td>\n",
              "      <td>PUNE: Two men on a motorcycle died after being...</td>\n",
              "    </tr>\n",
              "  </tbody>\n",
              "</table>\n",
              "<p>146413 rows × 2 columns</p>\n",
              "</div>"
            ],
            "text/plain": [
              "        flag                                               text\n",
              "0          0  NAGPUR: Villagers in Naxalite infested Gadchir...\n",
              "1          0  KOLHAPUR: Robbers continue to give sleepless n...\n",
              "2          0  HUBBALLI: An iconic building, which is propose...\n",
              "3          0  MUMBAI: MNS chief   said that the   would lead...\n",
              "4          0  UDAIPUR: Several mud houses collapsed and doze...\n",
              "...      ...                                                ...\n",
              "146408     0  VADODARA/ANAND: Two plants growing in abundanc...\n",
              "146409     0  NOIDA/BEIJING: Production at   Oppo’s Noida pl...\n",
              "146410     0  CHANDIGARH: A block development panchayat offi...\n",
              "146411     0  MANGALURU: As many as 95 species of winged bea...\n",
              "146412     0  PUNE: Two men on a motorcycle died after being...\n",
              "\n",
              "[146413 rows x 2 columns]"
            ]
          },
          "metadata": {
            "tags": []
          },
          "execution_count": 204
        }
      ]
    },
    {
      "cell_type": "code",
      "metadata": {
        "id": "dJwtr2OWMkT-",
        "colab_type": "code",
        "colab": {}
      },
      "source": [
        "dfF = df1[df1['flag']==1]"
      ],
      "execution_count": 0,
      "outputs": []
    },
    {
      "cell_type": "code",
      "metadata": {
        "id": "aQhXWWUKM39X",
        "colab_type": "code",
        "colab": {}
      },
      "source": [
        "dfR = df1[df1['flag']==0][:2500]"
      ],
      "execution_count": 0,
      "outputs": []
    },
    {
      "cell_type": "code",
      "metadata": {
        "id": "z8PDeiYVNNzE",
        "colab_type": "code",
        "colab": {}
      },
      "source": [
        "frames = [dfF,dfR]\n",
        "res = pd.concat(frames)\n",
        "data = res.values"
      ],
      "execution_count": 0,
      "outputs": []
    },
    {
      "cell_type": "code",
      "metadata": {
        "id": "TxTi9boaNbt4",
        "colab_type": "code",
        "colab": {}
      },
      "source": [
        "np.random.shuffle(data)"
      ],
      "execution_count": 0,
      "outputs": []
    },
    {
      "cell_type": "code",
      "metadata": {
        "id": "kpe6JmJBN_xM",
        "colab_type": "code",
        "outputId": "555817cc-61bd-4574-f919-8413fbc8214e",
        "colab": {
          "base_uri": "https://localhost:8080/",
          "height": 34
        }
      },
      "source": [
        "data.shape"
      ],
      "execution_count": 208,
      "outputs": [
        {
          "output_type": "execute_result",
          "data": {
            "text/plain": [
              "(3117, 2)"
            ]
          },
          "metadata": {
            "tags": []
          },
          "execution_count": 208
        }
      ]
    },
    {
      "cell_type": "code",
      "metadata": {
        "id": "40iFMCZ-OEBk",
        "colab_type": "code",
        "outputId": "058539ac-3b28-4241-fa52-425cd5804075",
        "colab": {
          "base_uri": "https://localhost:8080/",
          "height": 171
        }
      },
      "source": [
        "X = data[:,1]\n",
        "X"
      ],
      "execution_count": 209,
      "outputs": [
        {
          "output_type": "execute_result",
          "data": {
            "text/plain": [
              "array(['THIRUVANANTHAPURAM:   across the state is likely to get   peak hours, till Sunday. \\n\\n The state electricity board had been exercising selective restrictions in power supply from 6:30pm to 10pm since Thursday after there was a shortage of 400 MW power following issues in   power evacuation line and   in Thalcher  . KSEB has announced small scale power restrictions during peak hours to circumvent the unexpected dip in the power from outside the state. \\n \\nthiruvananthapuram',\n",
              "       'PUNE: Ola drivers, who had been protesting against the faulty policies of the management for the past two days, called off their strike late on Wednesday following acceptance of their demands. Uber drivers, who had also joined in the strike, decided to continue with their agitation though their representatives are likely to meet MNS leaders on Thursday.\\n\\n An Ola spokesperson said that it had decided to accept some of the demands of drivers like taking back terminated drivers after police verification, putting up Marathi posters in the cab etc. Ola also decided to look seriously into drivers’ payment issue.\\n \\n In a statement, the cab aggregator said, “Ola would like to apologise to all its customers for the inconvenience caused due to factors beyond its control. With every passing hour, our cabs are fast getting back on the road to service the mobility needs of all customers. Thank you for your continued trust and understanding.”\\n \\n Meanwhile, at least seven members of Maharashtra Navnirman Vahatuk Sena, which had been spearheading a strike by Ola and Uber cab drivers, were arrested on Tuesday evening for damaging a cab and threatening its driver near   on Katraj-Dehu Road bypass. The members allegedly attacked the cab for defying the strike call.\\n \\n The incident occurred around 2pm on the same day. Cab driver Amit Barke (30) of Somwar Peth lodged a complaint following which police arrested the seven suspects. The Bharati Vidyapeeth Police has identified them as Gajanan Patil, Jaydutta Rupnar, Arvind Bhosale, Arun Bhosale, Shahaji Patil, Prakash Bhosale and Girish Pandhare, all residents of Ambegaon.\\n \\n Police said, the suspects wielded party flags and shouted slogans on the road. They spotted the car and brought it to a halt at the spot. The suspects then damaged the windshield of the car with sticks. \\n \\n Commuters faced the brunt of the strike on Wednesday as most cabbies preferred not to take out their cabs out on the streets, fearing attacks from certain agitating groups.\\n \\n Many daily commuters said that they had issues finding cabs. The saving grace for them was that Ola auto rickshaw service was running normally.\\n \\n Kondhwa resident   said, “I had to go to the airport to receive a relative and despite several attempts, I was unable to find a cab. Then I booked an Ola auto rickshaw to reach the airport. However, no cabs were ready to ply from the airport and some of them, who agreed, told me I will have to leave the cab if it was stopped at any place. My relative had a lot of luggage and thus we took the risk. Fortunately, the cab was not stopped anywhere and we reached home.”\\n \\n Some, however, said that they didn’t face any issue. at all. \\n \\n \\npune',\n",
              "       'MUMBAI: A 28-year-old homemaker, Shweta Tandel, was murdered in her   in Sundari Nagar, Colaba, on Wednesday. Her husband, Mahendra, found the body when he came home for lunch. Her throat had been slit.\\n\\n Around 12.30pm, when Mahendra Tandel returned home, he was shocked to see Shweta lying motionless on the floor. He rushed her to the nearby St George’s Hospital, where she was declared dead before admission. \\n \\n The hospital authorities informed the police, who registered a   case. A sharp weapon was used to slit her throat, said the police. \\n \\n In his statement to the police, Shweta’s father   said he suspected his son-in-law had killed his daughter, but he could not give any reason for making such an allegation. \\n \\n Shweta and Mahendra had married last year.\\n \\nmumbai',\n",
              "       ...,\n",
              "       'INDORE:   has adjusted to his role as a stop-gap opener in ODIs and he does not want to dwell too much on his future in the format once first-choice opener   is back from his sabbatical.\\n\\n After getting \\'Man of the Series\\' award in the West Indies, Rahane only got to play one game against Sri Lanka after Shikhar Dhawan left to attend his ailing mother.\\n \\n In the ongoing series also, Dhawan could not be with the team due to his wife\\'s surgery in London and Rahane was again asked to open the innings.\\n \\n \"I don\\'t think about the future. I do my best whenever I get my opportunities. That\\'s what matters. I always think about staying in the present. When Shikhar comes back, we all don\\'t know what\\'s going to happen. For me, important thing is to give my all for the team,\" Rahane said before India\\'s practice session on the eve of third ODI against Australia.\\n \\n \"So the best thing for me is to stick to my gameplan and if I get opportunities, try to do my best for team. Every time you can\\'t think about hundreds, even if you get crucial 45-50, or 70 runs for your team, that is what matters. I always want to do that,\" Rahane said.\\n \\n Rahane also said that adjusting to a new position in batting order is completely a \"mental\" aspect and it\\'s not an issue with the Indian team.\\n \\n He was asked about the challenges an opener faces when he is asked to bat in the middle-order. Rahane has had problems trying to force the pace in the middle overs when asked to bat in the middle order.\\n \\n Rahane himself shuffles in the batting order in different formats. He plays in the middle order in the Test and opens in ODIs. Out of 81 ODIs so far, he has played 51 as opener.\\n \\n \"It\\'s completely mental (adjustment). The good thing in this team is anyone can bat at anywhere. We have that flexibility. I have batted at top, numbers 3,4 and 5. It\\'s important to handle that situation and utilize that situation. If you adjust in mind, you can adapt anywhere.\"\\n \\n India spinners   and   have been the centre of attention in this series after their exploits in the first two matches.\\n \\n Rahane said what makes them special is they are choking the Australian batsmen as well as taking wickets.\\n \\n \"It\\'s a good sign that they (Australians) are not able to pick them. They both are quality spinners, did well in domestic circuit. They are actually improving day by day. In ODI cricket, if you are taking wickets in middle overs and not giving runs at the same time, it\\'s good to have them. They are not taking things for granted and that\\'s a good sign.\"\\n \\n Rahane also dismissed criticism that   and   have not done well in this series.\\n \\n \"They have just played 2 games. They did well in Sri Lanka. The team management is backing them. It\\'s important to give confidence to your players. As a professional, you score sometimes, you fail sometimes.\"\\n \\nindore',\n",
              "       'GAYA: Two dozen post graduate departments, 44 constituent, four government-funded minority colleges and nearly 175 affiliated colleges with a total enrolment of about five lakh students of degree, post graduate and doctoral degree seekers, re-opened on Tuesday after 10 days long winter break, perhaps the last one of the undivided  .\\n\\n With the university bifurcation exercise and the creation of   on the fast track, the biggest university of the state will be left with only 19 constituent, one government-funded minority college and 35% of the affiliated colleges and less than 40% of the five lakh strong student community. According to sources, state government’s education budget 2018-19 proposes to make separate provision for the newly-created Pataliputra University comprising MU colleges located in Patna and   districts.\\n \\n An exercise has also started to transfer nearly 60% of the headquarter employees to the proposed university. The government has also created some additional posts for Pataliputra University and the process for appointment of VC and pro-VC of the new university has already begun.\\n \\n Asked about the promotion of non-teaching employees,   said the process to conduct written test in the light of   directive has begun. “No promotion will be given without screening the eligibility of promotion aspirants,” said Ahsan. Compassionate ground appointees were not entitled to promotion as they have been appointed on consideration other than merit. It is one time favour granted to prevent economic hardship to the dependents of the deceased employees. \\n \\n \\ngaya',\n",
              "       'Ahmedabad: Dholka Police on Sunday arrested a man for posting an offensive message related to the Kathua rape-and-murder case.According to investigators, they received a complaint from a citizen group about Vishal Soni, 20, a resident of Dholka. The screenshot of his WhatsApp post was making the rounds of different WhatsApp groups and other social media platforms. L B Tadvi, the inspector of Dholka police station, said that after a representation of the group and after reviewing the authenticity of the message, they tracked Soni and booked him. He said that the group had taken objection to the content and had given an application of complaint. “We have sent his phone for forensic analysis. The step has been taken to maintain law and order and to discourage others from similar activities. Further probe is on,” he said.\\nahmedabad'],\n",
              "      dtype=object)"
            ]
          },
          "metadata": {
            "tags": []
          },
          "execution_count": 209
        }
      ]
    },
    {
      "cell_type": "code",
      "metadata": {
        "id": "P6JDgFxvORQo",
        "colab_type": "code",
        "colab": {}
      },
      "source": [
        "Y = data[:,0]"
      ],
      "execution_count": 0,
      "outputs": []
    },
    {
      "cell_type": "code",
      "metadata": {
        "id": "_feNBPAYOUKn",
        "colab_type": "code",
        "outputId": "23940ad9-a32b-4574-bc65-27653c07808b",
        "colab": {
          "base_uri": "https://localhost:8080/",
          "height": 34
        }
      },
      "source": [
        "Y = np.array(Y,dtype='int32')\n",
        "Y"
      ],
      "execution_count": 211,
      "outputs": [
        {
          "output_type": "execute_result",
          "data": {
            "text/plain": [
              "array([0, 0, 0, ..., 0, 0, 1], dtype=int32)"
            ]
          },
          "metadata": {
            "tags": []
          },
          "execution_count": 211
        }
      ]
    },
    {
      "cell_type": "code",
      "metadata": {
        "id": "qWZpd337OVM2",
        "colab_type": "code",
        "colab": {}
      },
      "source": [
        "ps = PorterStemmer()\n",
        "sw = set(stopwords.words('english'))\n",
        "sw.remove('not')\n",
        "sw.remove('no')\n",
        "sw.add('\\n')\n",
        "def data_cleaner(text):\n",
        "  text = text.lower()\n",
        "  tokenizer = RegexpTokenizer('[A-z]+')\n",
        "  word_list = tokenizer.tokenize(text)\n",
        "  clean_list = [w for w in word_list if w not in sw]\n",
        "  stemmed_list = [ps.stem(w) for w in clean_list]\n",
        "  clean_text = ' '.join(stemmed_list)\n",
        "  return clean_text"
      ],
      "execution_count": 0,
      "outputs": []
    },
    {
      "cell_type": "code",
      "metadata": {
        "id": "FKTik7DpaERL",
        "colab_type": "code",
        "colab": {}
      },
      "source": [
        "X_clean = [data_cleaner(sent) for sent in X]"
      ],
      "execution_count": 0,
      "outputs": []
    },
    {
      "cell_type": "code",
      "metadata": {
        "id": "ryQ062wK0lbM",
        "colab_type": "code",
        "outputId": "7e5feeea-89bc-4ba6-97f4-6820ad26410a",
        "colab": {
          "base_uri": "https://localhost:8080/",
          "height": 54
        }
      },
      "source": [
        "X_clean[0]"
      ],
      "execution_count": 214,
      "outputs": [
        {
          "output_type": "execute_result",
          "data": {
            "text/plain": [
              "'thiruvananthapuram across state like get peak hour till sunday state electr board exercis select restrict power suppli pm pm sinc thursday shortag mw power follow issu power evacu line thalcher kseb announc small scale power restrict peak hour circumv unexpect dip power outsid state thiruvananthapuram'"
            ]
          },
          "metadata": {
            "tags": []
          },
          "execution_count": 214
        }
      ]
    },
    {
      "cell_type": "code",
      "metadata": {
        "id": "FF7DJU5X9MSU",
        "colab_type": "code",
        "colab": {}
      },
      "source": [
        "X_train,X_test,Y_train,Y_test = train_test_split(X_clean,Y)"
      ],
      "execution_count": 0,
      "outputs": []
    },
    {
      "cell_type": "code",
      "metadata": {
        "id": "1Sdd5CH-dIDh",
        "colab_type": "code",
        "colab": {}
      },
      "source": [
        "cv = TfidfVectorizer()"
      ],
      "execution_count": 0,
      "outputs": []
    },
    {
      "cell_type": "code",
      "metadata": {
        "id": "NumReZpdz1kf",
        "colab_type": "code",
        "colab": {}
      },
      "source": [
        ""
      ],
      "execution_count": 0,
      "outputs": []
    },
    {
      "cell_type": "code",
      "metadata": {
        "id": "QIUs64ny_Uw1",
        "colab_type": "code",
        "colab": {}
      },
      "source": [
        "df3 = pd.read_csv(\"/content/drive/My Drive/Dataset/Fake.csv\")\n",
        "df4 = pd.read_csv(\"/content/drive/My Drive/Dataset/True.csv\")"
      ],
      "execution_count": 0,
      "outputs": []
    },
    {
      "cell_type": "code",
      "metadata": {
        "id": "j7euAWZt_Uzm",
        "colab_type": "code",
        "colab": {
          "base_uri": "https://localhost:8080/",
          "height": 34
        },
        "outputId": "e05322dc-d39a-42d9-b62d-8c05091ec459"
      },
      "source": [
        "fra = [df3,df4]\n",
        "mix = pd.concat(fra)\n",
        "mix.shape"
      ],
      "execution_count": 184,
      "outputs": [
        {
          "output_type": "execute_result",
          "data": {
            "text/plain": [
              "(44898, 4)"
            ]
          },
          "metadata": {
            "tags": []
          },
          "execution_count": 184
        }
      ]
    },
    {
      "cell_type": "code",
      "metadata": {
        "id": "kSVd3hrv_U2S",
        "colab_type": "code",
        "colab": {}
      },
      "source": [
        "Yf = np.ones((df3.shape[0],))\n",
        "Yr = np.zeros((df4.shape[0],))"
      ],
      "execution_count": 0,
      "outputs": []
    },
    {
      "cell_type": "code",
      "metadata": {
        "id": "kko4rjA6_U47",
        "colab_type": "code",
        "colab": {}
      },
      "source": [
        "Y_new = np.hstack((Yf,Yr))"
      ],
      "execution_count": 0,
      "outputs": []
    },
    {
      "cell_type": "code",
      "metadata": {
        "id": "CwkA01ci_U7m",
        "colab_type": "code",
        "colab": {
          "base_uri": "https://localhost:8080/",
          "height": 34
        },
        "outputId": "cc065ea1-0cf8-44b9-f9af-b9d580a6bc44"
      },
      "source": [
        "Y_new"
      ],
      "execution_count": 195,
      "outputs": [
        {
          "output_type": "execute_result",
          "data": {
            "text/plain": [
              "array([1., 1., 1., ..., 0., 0., 0.])"
            ]
          },
          "metadata": {
            "tags": []
          },
          "execution_count": 195
        }
      ]
    },
    {
      "cell_type": "code",
      "metadata": {
        "id": "Rr5LapdJ_U-Y",
        "colab_type": "code",
        "colab": {
          "base_uri": "https://localhost:8080/",
          "height": 106
        },
        "outputId": "1c553b71-c44b-43f2-cf86-ecd28521d2b2"
      },
      "source": [
        "mix.tail(n=2)"
      ],
      "execution_count": 196,
      "outputs": [
        {
          "output_type": "execute_result",
          "data": {
            "text/html": [
              "<div>\n",
              "<style scoped>\n",
              "    .dataframe tbody tr th:only-of-type {\n",
              "        vertical-align: middle;\n",
              "    }\n",
              "\n",
              "    .dataframe tbody tr th {\n",
              "        vertical-align: top;\n",
              "    }\n",
              "\n",
              "    .dataframe thead th {\n",
              "        text-align: right;\n",
              "    }\n",
              "</style>\n",
              "<table border=\"1\" class=\"dataframe\">\n",
              "  <thead>\n",
              "    <tr style=\"text-align: right;\">\n",
              "      <th></th>\n",
              "      <th>title</th>\n",
              "      <th>text</th>\n",
              "      <th>subject</th>\n",
              "      <th>date</th>\n",
              "    </tr>\n",
              "  </thead>\n",
              "  <tbody>\n",
              "    <tr>\n",
              "      <th>21415</th>\n",
              "      <td>Vatican upbeat on possibility of Pope Francis ...</td>\n",
              "      <td>MOSCOW (Reuters) - Vatican Secretary of State ...</td>\n",
              "      <td>worldnews</td>\n",
              "      <td>August 22, 2017</td>\n",
              "    </tr>\n",
              "    <tr>\n",
              "      <th>21416</th>\n",
              "      <td>Indonesia to buy $1.14 billion worth of Russia...</td>\n",
              "      <td>JAKARTA (Reuters) - Indonesia will buy 11 Sukh...</td>\n",
              "      <td>worldnews</td>\n",
              "      <td>August 22, 2017</td>\n",
              "    </tr>\n",
              "  </tbody>\n",
              "</table>\n",
              "</div>"
            ],
            "text/plain": [
              "                                                   title  ...              date\n",
              "21415  Vatican upbeat on possibility of Pope Francis ...  ...  August 22, 2017 \n",
              "21416  Indonesia to buy $1.14 billion worth of Russia...  ...  August 22, 2017 \n",
              "\n",
              "[2 rows x 4 columns]"
            ]
          },
          "metadata": {
            "tags": []
          },
          "execution_count": 196
        }
      ]
    },
    {
      "cell_type": "code",
      "metadata": {
        "id": "Nd_bPvqx_VA9",
        "colab_type": "code",
        "colab": {
          "base_uri": "https://localhost:8080/",
          "height": 34
        },
        "outputId": "ced1f8af-b4e2-42c3-9d5f-bddb80ed3950"
      },
      "source": [
        "Y_new[Y_new.shape[0]-2:]"
      ],
      "execution_count": 198,
      "outputs": [
        {
          "output_type": "execute_result",
          "data": {
            "text/plain": [
              "array([0., 0.])"
            ]
          },
          "metadata": {
            "tags": []
          },
          "execution_count": 198
        }
      ]
    },
    {
      "cell_type": "code",
      "metadata": {
        "id": "RXJkNp5h_VDo",
        "colab_type": "code",
        "colab": {}
      },
      "source": [
        "mix['text'] = mix['title']+mix['text']+mix['subject']\n",
        "mix = mix.drop(['title','subject','date'],axis=1)"
      ],
      "execution_count": 0,
      "outputs": []
    },
    {
      "cell_type": "code",
      "metadata": {
        "id": "q3tBxCwRBKaq",
        "colab_type": "code",
        "colab": {}
      },
      "source": [
        "X_new = mix.values\n",
        "X_new = X_new.reshape((X_new.shape[0],))"
      ],
      "execution_count": 0,
      "outputs": []
    },
    {
      "cell_type": "code",
      "metadata": {
        "id": "BEpqTc5JBKdQ",
        "colab_type": "code",
        "colab": {}
      },
      "source": [
        "X_new_clean = [data_cleaner(sent) for sent in X_new]"
      ],
      "execution_count": 0,
      "outputs": []
    },
    {
      "cell_type": "code",
      "metadata": {
        "id": "MCLgenJRBqHI",
        "colab_type": "code",
        "colab": {}
      },
      "source": [
        ""
      ],
      "execution_count": 0,
      "outputs": []
    },
    {
      "cell_type": "code",
      "metadata": {
        "id": "2unPFS9nBqJ2",
        "colab_type": "code",
        "colab": {}
      },
      "source": [
        "X_vec = cv.transform(X_clean)"
      ],
      "execution_count": 0,
      "outputs": []
    },
    {
      "cell_type": "code",
      "metadata": {
        "id": "TtCfPxTvBqO-",
        "colab_type": "code",
        "colab": {}
      },
      "source": [
        "Y = np.hstack((Y_new,Y))"
      ],
      "execution_count": 0,
      "outputs": []
    },
    {
      "cell_type": "code",
      "metadata": {
        "id": "Kuefs_c9BqSA",
        "colab_type": "code",
        "colab": {}
      },
      "source": [
        "X_c = np.hstack((X_new_clean,X_clean))"
      ],
      "execution_count": 0,
      "outputs": []
    },
    {
      "cell_type": "code",
      "metadata": {
        "id": "H8Wjx9BQBqUy",
        "colab_type": "code",
        "colab": {
          "base_uri": "https://localhost:8080/",
          "height": 34
        },
        "outputId": "e69d5c2f-7cd8-48f5-eb1a-6db079a7ed4e"
      },
      "source": [
        "X_c.shape"
      ],
      "execution_count": 241,
      "outputs": [
        {
          "output_type": "execute_result",
          "data": {
            "text/plain": [
              "(48015,)"
            ]
          },
          "metadata": {
            "tags": []
          },
          "execution_count": 241
        }
      ]
    },
    {
      "cell_type": "code",
      "metadata": {
        "id": "-c9RZmrJBKi7",
        "colab_type": "code",
        "colab": {
          "base_uri": "https://localhost:8080/",
          "height": 34
        },
        "outputId": "08c80759-e159-41dd-81aa-2263f246c7cf"
      },
      "source": [
        "Y.shape"
      ],
      "execution_count": 242,
      "outputs": [
        {
          "output_type": "execute_result",
          "data": {
            "text/plain": [
              "(48015,)"
            ]
          },
          "metadata": {
            "tags": []
          },
          "execution_count": 242
        }
      ]
    },
    {
      "cell_type": "code",
      "metadata": {
        "id": "K7cJr0uhEL9D",
        "colab_type": "code",
        "colab": {}
      },
      "source": [
        "X_vec = cv.fit_transform(X_c)"
      ],
      "execution_count": 0,
      "outputs": []
    },
    {
      "cell_type": "code",
      "metadata": {
        "id": "DbKkG-GvEMEo",
        "colab_type": "code",
        "colab": {}
      },
      "source": [
        ""
      ],
      "execution_count": 0,
      "outputs": []
    },
    {
      "cell_type": "code",
      "metadata": {
        "id": "l__DypH5z7QA",
        "colab_type": "code",
        "colab": {}
      },
      "source": [
        "mnb = MultinomialNB()"
      ],
      "execution_count": 0,
      "outputs": []
    },
    {
      "cell_type": "code",
      "metadata": {
        "id": "CIJP4hmc4bx-",
        "colab_type": "code",
        "outputId": "e2d2f995-90cb-42f1-fef1-15b3fbb2e945",
        "colab": {
          "base_uri": "https://localhost:8080/",
          "height": 34
        }
      },
      "source": [
        "mnb.fit(X_vec,Y)"
      ],
      "execution_count": 245,
      "outputs": [
        {
          "output_type": "execute_result",
          "data": {
            "text/plain": [
              "MultinomialNB(alpha=1.0, class_prior=None, fit_prior=True)"
            ]
          },
          "metadata": {
            "tags": []
          },
          "execution_count": 245
        }
      ]
    },
    {
      "cell_type": "code",
      "metadata": {
        "id": "gY9lU14I8u1k",
        "colab_type": "code",
        "outputId": "d2a7894e-4ded-44e7-857f-07f057a3a187",
        "colab": {
          "base_uri": "https://localhost:8080/",
          "height": 34
        }
      },
      "source": [
        "mnb.score(X_vec,Y)"
      ],
      "execution_count": 246,
      "outputs": [
        {
          "output_type": "execute_result",
          "data": {
            "text/plain": [
              "0.9416224096636467"
            ]
          },
          "metadata": {
            "tags": []
          },
          "execution_count": 246
        }
      ]
    },
    {
      "cell_type": "code",
      "metadata": {
        "id": "Ozg8ZhPw9HbF",
        "colab_type": "code",
        "colab": {}
      },
      "source": [
        "X_tvec = cv.transform(X_test)"
      ],
      "execution_count": 0,
      "outputs": []
    },
    {
      "cell_type": "code",
      "metadata": {
        "id": "5yX8-X0D96op",
        "colab_type": "code",
        "outputId": "4b959d17-052a-4bd1-a9f8-c441295c516c",
        "colab": {
          "base_uri": "https://localhost:8080/",
          "height": 34
        }
      },
      "source": [
        "mnb.score(X_tvec,Y_test)"
      ],
      "execution_count": 248,
      "outputs": [
        {
          "output_type": "execute_result",
          "data": {
            "text/plain": [
              "0.8589743589743589"
            ]
          },
          "metadata": {
            "tags": []
          },
          "execution_count": 248
        }
      ]
    },
    {
      "cell_type": "code",
      "metadata": {
        "id": "4bV0GW6J-Lhc",
        "colab_type": "code",
        "colab": {}
      },
      "source": [
        "pred = mnb.predict(X_tvec)"
      ],
      "execution_count": 0,
      "outputs": []
    },
    {
      "cell_type": "code",
      "metadata": {
        "id": "zoex23nH-RD9",
        "colab_type": "code",
        "outputId": "13c568e9-8be8-4799-e7b8-7a9cab917ef5",
        "colab": {
          "base_uri": "https://localhost:8080/",
          "height": 34
        }
      },
      "source": [
        "np.unique(pred,return_counts=True)"
      ],
      "execution_count": 250,
      "outputs": [
        {
          "output_type": "execute_result",
          "data": {
            "text/plain": [
              "(array([0., 1.]), array([668, 112]))"
            ]
          },
          "metadata": {
            "tags": []
          },
          "execution_count": 250
        }
      ]
    },
    {
      "cell_type": "code",
      "metadata": {
        "id": "lfqikkbX-R7l",
        "colab_type": "code",
        "outputId": "4261eb6d-b9e0-4702-9b59-43d03d289d65",
        "colab": {
          "base_uri": "https://localhost:8080/",
          "height": 622
        }
      },
      "source": [
        "Y_test"
      ],
      "execution_count": 251,
      "outputs": [
        {
          "output_type": "execute_result",
          "data": {
            "text/plain": [
              "array([0, 0, 1, 1, 0, 0, 0, 0, 0, 0, 0, 0, 1, 0, 0, 1, 0, 0, 0, 1, 0, 0,\n",
              "       1, 0, 0, 1, 0, 0, 0, 0, 0, 1, 1, 0, 1, 1, 0, 1, 0, 1, 0, 0, 0, 0,\n",
              "       0, 0, 0, 0, 0, 0, 0, 0, 1, 1, 0, 1, 0, 1, 0, 0, 1, 1, 0, 0, 0, 0,\n",
              "       0, 0, 0, 0, 0, 0, 0, 0, 0, 0, 1, 1, 0, 0, 0, 0, 0, 1, 0, 0, 0, 0,\n",
              "       0, 0, 0, 0, 0, 1, 1, 0, 0, 1, 0, 0, 1, 0, 0, 0, 0, 0, 0, 0, 0, 0,\n",
              "       0, 0, 0, 0, 0, 0, 0, 0, 0, 0, 0, 1, 0, 0, 0, 0, 0, 0, 1, 0, 0, 0,\n",
              "       1, 1, 0, 1, 0, 0, 0, 0, 0, 0, 0, 0, 0, 0, 0, 0, 0, 0, 0, 0, 0, 0,\n",
              "       0, 1, 0, 0, 0, 0, 0, 0, 0, 0, 0, 0, 0, 0, 1, 1, 0, 0, 0, 1, 1, 0,\n",
              "       0, 0, 1, 1, 0, 0, 0, 0, 0, 1, 0, 1, 0, 0, 0, 0, 0, 0, 0, 0, 0, 0,\n",
              "       0, 1, 0, 0, 0, 0, 0, 1, 1, 0, 0, 0, 0, 0, 0, 0, 1, 0, 0, 0, 0, 0,\n",
              "       0, 0, 0, 0, 1, 0, 0, 0, 0, 1, 0, 0, 0, 0, 0, 1, 0, 1, 0, 0, 0, 0,\n",
              "       0, 0, 0, 0, 0, 0, 0, 0, 0, 1, 0, 0, 0, 1, 0, 1, 0, 1, 0, 1, 0, 1,\n",
              "       1, 0, 1, 1, 0, 0, 1, 0, 0, 0, 1, 1, 0, 1, 0, 1, 0, 0, 1, 0, 0, 1,\n",
              "       0, 0, 0, 0, 0, 1, 0, 0, 0, 0, 0, 0, 0, 0, 1, 1, 0, 0, 0, 0, 1, 0,\n",
              "       0, 0, 0, 1, 0, 0, 0, 1, 0, 0, 0, 0, 1, 0, 0, 0, 0, 0, 0, 0, 0, 0,\n",
              "       0, 1, 0, 0, 0, 0, 0, 1, 0, 0, 0, 1, 0, 1, 0, 0, 1, 0, 1, 1, 0, 0,\n",
              "       0, 0, 0, 0, 0, 0, 0, 0, 0, 0, 0, 0, 0, 0, 0, 0, 0, 1, 0, 0, 0, 0,\n",
              "       0, 0, 0, 0, 0, 1, 1, 0, 0, 0, 0, 0, 0, 0, 0, 0, 1, 0, 0, 1, 0, 0,\n",
              "       0, 0, 0, 0, 0, 1, 0, 0, 1, 0, 0, 0, 0, 0, 0, 1, 1, 0, 0, 1, 1, 1,\n",
              "       1, 0, 0, 1, 0, 0, 0, 0, 0, 0, 0, 0, 0, 0, 0, 0, 0, 0, 0, 0, 0, 1,\n",
              "       0, 0, 0, 1, 0, 0, 0, 0, 0, 0, 0, 0, 0, 0, 0, 1, 0, 0, 0, 0, 0, 0,\n",
              "       1, 0, 0, 0, 0, 0, 0, 0, 0, 1, 0, 0, 0, 1, 0, 0, 0, 0, 0, 0, 0, 0,\n",
              "       0, 0, 0, 0, 0, 0, 0, 0, 0, 1, 1, 0, 0, 0, 0, 0, 0, 0, 1, 0, 0, 0,\n",
              "       0, 0, 0, 1, 0, 0, 1, 1, 0, 0, 0, 0, 0, 0, 0, 0, 0, 1, 0, 0, 0, 0,\n",
              "       0, 0, 1, 0, 0, 1, 0, 0, 0, 1, 0, 0, 0, 0, 0, 0, 0, 0, 0, 0, 0, 1,\n",
              "       0, 0, 0, 0, 0, 0, 0, 0, 0, 0, 0, 0, 0, 0, 0, 0, 0, 0, 0, 0, 0, 1,\n",
              "       0, 0, 0, 0, 1, 0, 0, 0, 0, 1, 0, 0, 0, 0, 1, 1, 0, 0, 0, 0, 1, 0,\n",
              "       0, 0, 1, 0, 0, 0, 0, 0, 1, 0, 0, 1, 0, 0, 0, 1, 0, 0, 0, 1, 0, 0,\n",
              "       0, 0, 0, 1, 0, 0, 0, 0, 1, 0, 0, 0, 0, 0, 0, 0, 0, 0, 0, 0, 1, 0,\n",
              "       0, 0, 1, 1, 0, 1, 0, 0, 1, 1, 0, 0, 0, 0, 0, 0, 1, 0, 0, 1, 1, 1,\n",
              "       1, 0, 0, 0, 0, 0, 0, 0, 0, 0, 0, 0, 0, 0, 0, 1, 0, 0, 0, 0, 1, 0,\n",
              "       0, 0, 0, 0, 0, 0, 0, 0, 0, 1, 0, 1, 0, 0, 0, 0, 0, 0, 0, 1, 1, 0,\n",
              "       0, 0, 0, 0, 0, 0, 0, 0, 0, 0, 0, 0, 1, 1, 0, 0, 0, 1, 0, 0, 0, 1,\n",
              "       0, 0, 0, 0, 0, 0, 0, 0, 1, 0, 0, 1, 0, 1, 0, 1, 0, 0, 0, 0, 1, 0,\n",
              "       0, 0, 1, 0, 0, 0, 0, 0, 0, 0, 0, 0, 0, 0, 1, 0, 0, 0, 0, 1, 1, 0,\n",
              "       0, 1, 1, 1, 0, 0, 1, 0, 0, 0], dtype=int32)"
            ]
          },
          "metadata": {
            "tags": []
          },
          "execution_count": 251
        }
      ]
    },
    {
      "cell_type": "code",
      "metadata": {
        "id": "zaUhlIHc-Tq7",
        "colab_type": "code",
        "colab": {}
      },
      "source": [
        "report = classification_report(Y_test,pred,target_names = ['0','1'])"
      ],
      "execution_count": 0,
      "outputs": []
    },
    {
      "cell_type": "code",
      "metadata": {
        "id": "cRc_BXTf-sIZ",
        "colab_type": "code",
        "outputId": "0062967f-37a1-445d-c39a-28db34a5b277",
        "colab": {
          "base_uri": "https://localhost:8080/",
          "height": 168
        }
      },
      "source": [
        "print(report)"
      ],
      "execution_count": 253,
      "outputs": [
        {
          "output_type": "stream",
          "text": [
            "              precision    recall  f1-score   support\n",
            "\n",
            "           0       0.88      0.95      0.91       624\n",
            "           1       0.71      0.51      0.59       156\n",
            "\n",
            "    accuracy                           0.86       780\n",
            "   macro avg       0.80      0.73      0.75       780\n",
            "weighted avg       0.85      0.86      0.85       780\n",
            "\n"
          ],
          "name": "stdout"
        }
      ]
    },
    {
      "cell_type": "code",
      "metadata": {
        "id": "dd-gGHOm-s96",
        "colab_type": "code",
        "outputId": "8000acc4-ac1c-4bb5-b2c5-297f02516f09",
        "colab": {
          "base_uri": "https://localhost:8080/",
          "height": 50
        }
      },
      "source": [
        "cm = confusion_matrix(Y_test,pred)\n",
        "print(cm)"
      ],
      "execution_count": 254,
      "outputs": [
        {
          "output_type": "stream",
          "text": [
            "[[591  33]\n",
            " [ 77  79]]\n"
          ],
          "name": "stdout"
        }
      ]
    },
    {
      "cell_type": "code",
      "metadata": {
        "id": "3v-iW6d4-6-1",
        "colab_type": "code",
        "outputId": "8fad8101-d6c1-4b80-ae69-d9e0ead3e17a",
        "colab": {
          "base_uri": "https://localhost:8080/",
          "height": 67
        }
      },
      "source": [
        "print(\"FOR TESTING DATA\")\n",
        "print(\"False Positive: \",cm[0,1])\n",
        "print(\"False Negetive: \",cm[1,0])"
      ],
      "execution_count": 255,
      "outputs": [
        {
          "output_type": "stream",
          "text": [
            "FOR TESTING DATA\n",
            "False Positive:  33\n",
            "False Negetive:  77\n"
          ],
          "name": "stdout"
        }
      ]
    },
    {
      "cell_type": "code",
      "metadata": {
        "id": "NWKkEbnHEkR_",
        "colab_type": "code",
        "outputId": "442db4f3-fee6-403d-c64a-d26265427495",
        "colab": {
          "base_uri": "https://localhost:8080/",
          "height": 295
        }
      },
      "source": [
        "sns.heatmap(cm,xticklabels=[0,1],cmap=plt.cm.Blues,annot=True)\n",
        "plt.xlabel(\"Predicted Values\")\n",
        "plt.ylabel(\"Actuall Vals\")\n",
        "plt.title(\"CONFUSION MATRIX\")\n",
        "plt.show()"
      ],
      "execution_count": 256,
      "outputs": [
        {
          "output_type": "display_data",
          "data": {
            "image/png": "[encoded data removed]",
            "text/plain": [
              "<Figure size 432x288 with 2 Axes>"
            ]
          },
          "metadata": {
            "tags": []
          }
        }
      ]
    },
    {
      "cell_type": "code",
      "metadata": {
        "id": "Xj7XV2A1KDdV",
        "colab_type": "code",
        "outputId": "d99e6506-c450-462b-9def-866058b7ff32",
        "colab": {
          "base_uri": "https://localhost:8080/",
          "height": 34
        }
      },
      "source": [
        "cross_val_score(mnb,X_vec,Y,cv=5,scoring='accuracy').mean()"
      ],
      "execution_count": 257,
      "outputs": [
        {
          "output_type": "execute_result",
          "data": {
            "text/plain": [
              "0.8866395917942309"
            ]
          },
          "metadata": {
            "tags": []
          },
          "execution_count": 257
        }
      ]
    },
    {
      "cell_type": "code",
      "metadata": {
        "id": "JxoQsW29zaxI",
        "colab_type": "code",
        "outputId": "3ddceed1-cbe5-4865-926f-ad877ba91108",
        "colab": {
          "base_uri": "https://localhost:8080/",
          "height": 34
        }
      },
      "source": [
        "df9 = pd.read_csv(\"/content/drive/My Drive/Dataset/fndata.csv\")\n",
        "df9.shape"
      ],
      "execution_count": 258,
      "outputs": [
        {
          "output_type": "execute_result",
          "data": {
            "text/plain": [
              "(53, 1)"
            ]
          },
          "metadata": {
            "tags": []
          },
          "execution_count": 258
        }
      ]
    },
    {
      "cell_type": "code",
      "metadata": {
        "id": "uicTO-cT11lP",
        "colab_type": "code",
        "outputId": "ac22f2d6-4417-4662-c0ba-9a86271556af",
        "colab": {
          "base_uri": "https://localhost:8080/",
          "height": 67
        }
      },
      "source": [
        "f = np.ones((df9.shape[0],))\n",
        "f = np.array(f,dtype='int32')\n",
        "f"
      ],
      "execution_count": 259,
      "outputs": [
        {
          "output_type": "execute_result",
          "data": {
            "text/plain": [
              "array([1, 1, 1, 1, 1, 1, 1, 1, 1, 1, 1, 1, 1, 1, 1, 1, 1, 1, 1, 1, 1, 1,\n",
              "       1, 1, 1, 1, 1, 1, 1, 1, 1, 1, 1, 1, 1, 1, 1, 1, 1, 1, 1, 1, 1, 1,\n",
              "       1, 1, 1, 1, 1, 1, 1, 1, 1], dtype=int32)"
            ]
          },
          "metadata": {
            "tags": []
          },
          "execution_count": 259
        }
      ]
    },
    {
      "cell_type": "code",
      "metadata": {
        "id": "mbi9lSCx2Q6t",
        "colab_type": "code",
        "colab": {}
      },
      "source": [
        "testX = df9.values"
      ],
      "execution_count": 0,
      "outputs": []
    },
    {
      "cell_type": "code",
      "metadata": {
        "id": "lyt-6YJV2ekk",
        "colab_type": "code",
        "colab": {}
      },
      "source": [
        "testX = testX.reshape((-1,))"
      ],
      "execution_count": 0,
      "outputs": []
    },
    {
      "cell_type": "code",
      "metadata": {
        "id": "2XPeE4iO2nFn",
        "colab_type": "code",
        "outputId": "3e5cba11-71f3-4650-87ee-a384012e7b48",
        "colab": {
          "base_uri": "https://localhost:8080/",
          "height": 34
        }
      },
      "source": [
        "testX.shape"
      ],
      "execution_count": 263,
      "outputs": [
        {
          "output_type": "execute_result",
          "data": {
            "text/plain": [
              "(53,)"
            ]
          },
          "metadata": {
            "tags": []
          },
          "execution_count": 263
        }
      ]
    },
    {
      "cell_type": "code",
      "metadata": {
        "id": "lMmOGnIp2qa_",
        "colab_type": "code",
        "outputId": "38b66d50-4e94-4fc2-e839-45f0e7c5ecde",
        "colab": {
          "base_uri": "https://localhost:8080/",
          "height": 34
        }
      },
      "source": [
        "testX.shape"
      ],
      "execution_count": 264,
      "outputs": [
        {
          "output_type": "execute_result",
          "data": {
            "text/plain": [
              "(53,)"
            ]
          },
          "metadata": {
            "tags": []
          },
          "execution_count": 264
        }
      ]
    },
    {
      "cell_type": "code",
      "metadata": {
        "id": "wWWOVCFH2v-A",
        "colab_type": "code",
        "colab": {}
      },
      "source": [
        "testX_clean = [data_cleaner(sent) for sent in testX]"
      ],
      "execution_count": 0,
      "outputs": []
    },
    {
      "cell_type": "code",
      "metadata": {
        "id": "P4QCDNzr20Yl",
        "colab_type": "code",
        "colab": {}
      },
      "source": [
        "testX_vec = cv.transform(testX_clean)"
      ],
      "execution_count": 0,
      "outputs": []
    },
    {
      "cell_type": "code",
      "metadata": {
        "id": "ILpV9fjc26ES",
        "colab_type": "code",
        "colab": {}
      },
      "source": [
        "pred = mnb.predict(testX_vec)"
      ],
      "execution_count": 0,
      "outputs": []
    },
    {
      "cell_type": "code",
      "metadata": {
        "id": "-6dicrwo29ks",
        "colab_type": "code",
        "outputId": "6c16a9ee-8946-41fc-e0e6-4c9e102cee6a",
        "colab": {
          "base_uri": "https://localhost:8080/",
          "height": 84
        }
      },
      "source": [
        "pred"
      ],
      "execution_count": 268,
      "outputs": [
        {
          "output_type": "execute_result",
          "data": {
            "text/plain": [
              "array([0., 1., 1., 1., 1., 1., 1., 1., 1., 1., 1., 0., 1., 1., 1., 0., 0.,\n",
              "       0., 1., 1., 1., 1., 1., 0., 1., 0., 1., 1., 1., 0., 1., 1., 1., 1.,\n",
              "       1., 0., 0., 0., 1., 1., 0., 1., 0., 1., 0., 0., 0., 0., 0., 0., 0.,\n",
              "       1., 0.])"
            ]
          },
          "metadata": {
            "tags": []
          },
          "execution_count": 268
        }
      ]
    },
    {
      "cell_type": "code",
      "metadata": {
        "id": "QrVP3kka3FfI",
        "colab_type": "code",
        "outputId": "57778e02-4a72-4c28-c338-3fb8a50c8c59",
        "colab": {
          "base_uri": "https://localhost:8080/",
          "height": 34
        }
      },
      "source": [
        "mnb.score(testX_vec,f)"
      ],
      "execution_count": 270,
      "outputs": [
        {
          "output_type": "execute_result",
          "data": {
            "text/plain": [
              "0.6037735849056604"
            ]
          },
          "metadata": {
            "tags": []
          },
          "execution_count": 270
        }
      ]
    },
    {
      "cell_type": "code",
      "metadata": {
        "id": "1MUJiZzX3KLz",
        "colab_type": "code",
        "colab": {
          "base_uri": "https://localhost:8080/",
          "height": 70
        },
        "outputId": "c2fc408f-bfd6-4948-a9f2-fc3a4100c6b6"
      },
      "source": [
        "report = classification_report(f,pred,target_names = ['0','1'])"
      ],
      "execution_count": 271,
      "outputs": [
        {
          "output_type": "stream",
          "text": [
            "/usr/local/lib/python3.6/dist-packages/sklearn/metrics/_classification.py:1272: UndefinedMetricWarning: Recall and F-score are ill-defined and being set to 0.0 in labels with no true samples. Use `zero_division` parameter to control this behavior.\n",
            "  _warn_prf(average, modifier, msg_start, len(result))\n"
          ],
          "name": "stderr"
        }
      ]
    },
    {
      "cell_type": "code",
      "metadata": {
        "id": "bvmFwBeRFr56",
        "colab_type": "code",
        "colab": {
          "base_uri": "https://localhost:8080/",
          "height": 168
        },
        "outputId": "53d14b44-0e95-420f-c6cb-1577199e926a"
      },
      "source": [
        "print(report)"
      ],
      "execution_count": 272,
      "outputs": [
        {
          "output_type": "stream",
          "text": [
            "              precision    recall  f1-score   support\n",
            "\n",
            "           0       0.00      0.00      0.00         0\n",
            "           1       1.00      0.60      0.75        53\n",
            "\n",
            "    accuracy                           0.60        53\n",
            "   macro avg       0.50      0.30      0.38        53\n",
            "weighted avg       1.00      0.60      0.75        53\n",
            "\n"
          ],
          "name": "stdout"
        }
      ]
    },
    {
      "cell_type": "code",
      "metadata": {
        "id": "fAVRWMhQFtsV",
        "colab_type": "code",
        "colab": {}
      },
      "source": [
        ""
      ],
      "execution_count": 0,
      "outputs": []
    }
  ]
}